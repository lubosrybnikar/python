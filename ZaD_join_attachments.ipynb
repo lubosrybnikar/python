{
 "cells": [
  {
   "cell_type": "code",
   "execution_count": 8,
   "metadata": {},
   "outputs": [],
   "source": [
    "import arcpy, os, sys\n",
    "arcpy.env.overwriteOutput = True\n",
    "arcpy.env.workspace = r'D:\\rybnikar\\ZaD_subory_Lubos'"
   ]
  },
  {
   "cell_type": "code",
   "execution_count": 2,
   "metadata": {
    "scrolled": true
   },
   "outputs": [
    {
     "data": {
      "text/html": [
       "<div class='gpresult'><h2>Messages</h2><div id='messages' data-messages='[\"Start Time: štvrtok, 27. októbra 2022 14:28:43\",\"Succeeded at štvrtok, 27. októbra 2022 14:28:57 (Elapsed Time: 13,66 seconds)\"]' data-show='true'><div id = 'default' /></div></div>"
      ],
      "text/plain": [
       "<Result 'D:\\\\rybnikar\\\\ZaD_subory_Lubos\\\\Zmeny_a_doplnky.gdb\\\\zad_table'>"
      ]
     },
     "execution_count": 2,
     "metadata": {},
     "output_type": "execute_result"
    }
   ],
   "source": [
    " arcpy.conversion.ExcelToTable(r'D:\\rybnikar\\ZaD_subory_Lubos\\ZaD09_test.xlsx', 'Zmeny_a_doplnky.gdb\\zad_table',\n",
    "                             'zad09_podnety')\n",
    "#z nejakeho dovodu mi to nechcelo brat relativne cesty, preto je tam cela cesta"
   ]
  },
  {
   "cell_type": "code",
   "execution_count": 3,
   "metadata": {},
   "outputs": [],
   "source": [
    "zad_test = 'Zmeny_a_doplnky.gdb/ZaD09_obrys_test'\n",
    "zad_test_tab = 'Zmeny_a_doplnky.gdb/zad_table'\n",
    "in_field = 'PC'\n",
    "join_field = 'PC'\n",
    "delete_list = ['AT_TEST_1', 'AT_TEST_2', 'AT_TEST_3']\n",
    "update_list = ['AT_TEST_1', 'AT_TEST_2', 'AT_TEST_3']\n",
    "#globalid ako join field nefungovalo, preto je tam pc"
   ]
  },
  {
   "cell_type": "code",
   "execution_count": 4,
   "metadata": {},
   "outputs": [
    {
     "data": {
      "text/html": [
       "<div class='gpresult'><h2>Messages</h2><div id='messages' data-messages='[\"Start Time: štvrtok, 27. októbra 2022 14:30:22\",\"Succeeded at štvrtok, 27. októbra 2022 14:30:22 (Elapsed Time: 0,43 seconds)\"]' data-show='true'><div id = 'default' /></div></div>"
      ],
      "text/plain": [
       "<Result 'D:\\\\rybnikar\\\\ZaD_subory_Lubos\\\\Zmeny_a_doplnky.gdb/ZaD09_obrys_test'>"
      ]
     },
     "execution_count": 4,
     "metadata": {},
     "output_type": "execute_result"
    }
   ],
   "source": [
    "arcpy.DeleteField_management(zad_test, delete_list)\n",
    "arcpy.management.JoinField(zad_test, in_field, zad_test_tab, join_field, update_list)"
   ]
  },
  {
   "cell_type": "code",
   "execution_count": null,
   "metadata": {
    "scrolled": true
   },
   "outputs": [
    {
     "name": "stdout",
     "output_type": "stream",
     "text": [
      "Exporting SM_11\n",
      "Exporting SM_13\n",
      "Exporting SM_16\n",
      "Exporting SM_17\n",
      "Exporting SM_18\n",
      "Exporting SM_19\n",
      "Exporting SM_21\n",
      "Exporting SM_22\n",
      "Exporting PB_01\n",
      "Exporting PB_13\n",
      "Exporting PB_15\n",
      "Exporting PB_16\n",
      "Exporting PB_19\n",
      "Exporting PB_02\n",
      "Exporting PB_03\n",
      "Exporting PB_06\n",
      "Exporting PB_08\n",
      "Exporting RU_01\n",
      "Exporting RU_18\n",
      "Exporting RU_21\n",
      "Exporting RU_29\n",
      "Exporting RU_03\n",
      "Exporting RU_35\n",
      "Exporting RU_36\n",
      "Exporting RU_37\n",
      "Exporting RU_38\n",
      "Exporting RU_39\n",
      "Exporting RU_04\n",
      "Exporting RU_07\n",
      "Exporting RU_08\n"
     ]
    }
   ],
   "source": [
    "mxdchs = arcpy.mp.ArcGISProject(\"CURRENT\")\n",
    "l = mxdchs.listLayouts('ZaD_pasporty-plochy')[0]\n",
    "\n",
    "\n",
    "if not l.mapSeries is None:\n",
    "  ms = l.mapSeries\n",
    "  if ms.enabled:\n",
    "    for pageNum in range(1, ms.pageCount + 1):\n",
    "      ms.currentPageNumber = pageNum\n",
    "      print(\"Exporting {0}\".format(ms.pageRow.PC_HELP))\n",
    "      pageName = ms.pageRow.PC_HELP\n",
    "      l.exportToPDF(os.path.join(r\"D:\\rybnikar\\ZaD_subory_Lubos\\pdf\", f\"{ms.pageRow.PC_HELP}.pdf\"))"
   ]
  },
  {
   "cell_type": "code",
   "execution_count": 42,
   "metadata": {},
   "outputs": [
    {
     "data": {
      "text/html": [
       "<div class='gpresult'><h2>Messages</h2><div id='messages' data-messages='[\"Start Time: streda, 26. októbra 2022 13:38:25\",\"Succeeded at streda, 26. októbra 2022 13:38:25 (Elapsed Time: 0,34 seconds)\"]' data-show='true'><div id = 'default' /></div></div>"
      ],
      "text/plain": [
       "<Result 'Zmeny_a_doplnky.gdb\\\\prilohy_pdf'>"
      ]
     },
     "execution_count": 42,
     "metadata": {},
     "output_type": "execute_result"
    }
   ],
   "source": [
    "arcpy.management.GenerateAttachmentMatchTable('Zmeny_a_doplnky.gdb/ZaD09_obrys_test', 'pdf',\n",
    "                                              'Zmeny_a_doplnky.gdb/prilohy_pdf', 'PC_HELP')"
   ]
  },
  {
   "cell_type": "code",
   "execution_count": 43,
   "metadata": {},
   "outputs": [
    {
     "data": {
      "text/html": [
       "<div class='gpresult'><h2>Messages</h2><div id='messages' data-messages='[\"Start Time: streda, 26. októbra 2022 13:39:18\",\"Succeeded at streda, 26. októbra 2022 13:39:21 (Elapsed Time: 2,44 seconds)\"]' data-show='true'><div id = 'default' /></div></div>"
      ],
      "text/plain": [
       "<Result 'Zmeny_a_doplnky.gdb/ZaD09_obrys_test'>"
      ]
     },
     "execution_count": 43,
     "metadata": {},
     "output_type": "execute_result"
    }
   ],
   "source": [
    "arcpy.management.RemoveAttachments('Zmeny_a_doplnky.gdb/ZaD09_obrys_test', 'OBJECTID',\n",
    "                                'Zmeny_a_doplnky.gdb/prilohy_pdf',\n",
    "                                'MatchID', 'Filename')"
   ]
  },
  {
   "cell_type": "code",
   "execution_count": 44,
   "metadata": {},
   "outputs": [
    {
     "data": {
      "text/html": [
       "<div class='gpresult'><h2>Messages</h2><div id='messages' data-messages='[\"Start Time: streda, 26. októbra 2022 13:39:37\",\"Succeeded at streda, 26. októbra 2022 13:39:38 (Elapsed Time: 0,53 seconds)\"]' data-show='true'><div id = 'default' /></div></div>"
      ],
      "text/plain": [
       "<Result 'Zmeny_a_doplnky.gdb/ZaD09_obrys_test'>"
      ]
     },
     "execution_count": 44,
     "metadata": {},
     "output_type": "execute_result"
    }
   ],
   "source": [
    "arcpy.management.AddAttachments('Zmeny_a_doplnky.gdb/ZaD09_obrys_test', 'OBJECTID',\n",
    "                                'Zmeny_a_doplnky.gdb/prilohy_pdf',\n",
    "                                'MatchID', 'Filename', 'pdf')"
   ]
  },
  {
   "cell_type": "code",
   "execution_count": null,
   "metadata": {},
   "outputs": [],
   "source": []
  }
 ],
 "metadata": {
  "kernelspec": {
   "display_name": "ArcGISPro",
   "language": "Python",
   "name": "python3"
  },
  "language_info": {
   "file_extension": ".py",
   "name": "python",
   "version": "3"
  }
 },
 "nbformat": 4,
 "nbformat_minor": 2
}
