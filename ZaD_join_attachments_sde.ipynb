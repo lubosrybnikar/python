{
 "cells": [
  {
   "cell_type": "code",
   "execution_count": 1,
   "metadata": {},
   "outputs": [],
   "source": [
    "import arcpy, os, sys\n",
    "arcpy.env.overwriteOutput = True\n",
    "arcpy.env.workspace = r'C:\\Users\\lubos.rybnikar\\Documents\\arcgisdb1i.sde'"
   ]
  },
  {
   "cell_type": "code",
   "execution_count": 2,
   "metadata": {},
   "outputs": [
    {
     "name": "stdout",
     "output_type": "stream",
     "text": [
      "magistrat.gisdata.Enviro\n",
      "magistrat.gisdata.UP_kataster\n",
      "magistrat.gisdata.Zamery\n",
      "magistrat.gisdata.Doprava\n",
      "magistrat.gisdata.Byvanie\n",
      "magistrat.gisdata.zonalne_dokumentacie\n",
      "magistrat.gisdata.Zmeny_a_doplnky_UPN\n",
      "magistrat.gisdata.ParkovaciaPolitika\n",
      "magistrat.gisdata.Generely\n",
      "magistrat.gisdata.data_house\n",
      "magistrat.gisdata.Administrativne_hranice\n",
      "magistrat.gisdata.test_3D\n",
      "magistrat.gisdata.skolenie\n",
      "magistrat.lubosrybnikar.KatasterHistoria\n",
      "magistrat.gisdata.UPN_uplne_znenie\n",
      "magistrat.sde.sde_Test_ParkovaciaPolitika\n",
      "magistrat.gisdata.Lido\n",
      "magistrat.gisdata.Test_ParkovaciaPolitika\n"
     ]
    }
   ],
   "source": [
    "datasets = arcpy.ListDatasets()\n",
    "#print (datasets)\n",
    "for dataset in datasets:\n",
    "    print (dataset)\n",
    "#len taky pomocny krok na zistenie, ci je workspace nastaveny spravne"
   ]
  },
  {
   "cell_type": "code",
   "execution_count": 3,
   "metadata": {},
   "outputs": [
    {
     "data": {
      "text/html": [
       "<div class='gpresult'><h2>Messages</h2><div id='messages' data-messages='[\"Start Time: piatok, 28. októbra 2022 9:37:51\",\"Succeeded at piatok, 28. októbra 2022 9:38:03 (Elapsed Time: 12,26 seconds)\"]' data-show='true'><div id = 'default' /></div></div>"
      ],
      "text/plain": [
       "<Result 'C:\\\\Users\\\\lubos.rybnikar\\\\Documents\\\\arcgisdb1i.sde\\\\magistrat.gisdata.magistrat_gisdata_zad_table'>"
      ]
     },
     "execution_count": 3,
     "metadata": {},
     "output_type": "execute_result"
    }
   ],
   "source": [
    " arcpy.conversion.ExcelToTable(r'D:\\rybnikar\\ZaD_subory_Lubos\\ZaD09_test.xlsx', 'magistrat.gisdata.zad_table',\n",
    "                             'zad09_podnety')\n",
    "#funguje"
   ]
  },
  {
   "cell_type": "code",
   "execution_count": 4,
   "metadata": {},
   "outputs": [],
   "source": [
    "zad_test = 'magistrat.lubosrybnikar.ZaD09_obrys_test2'\n",
    "zad_test_tab = 'magistrat.gisdata.magistrat_gisdata_zad_table'\n",
    "in_field = 'objectid'\n",
    "join_field = 'objectid'\n",
    "delete_list = ['at_test_1', 'AT_TEST_2', 'AT_TEST_3']\n",
    "update_list = ['AT_TEST_1', 'AT_TEST_2', 'AT_TEST_3']\n",
    "#globalid ako join field nefungovalo, preto je tam objectid"
   ]
  },
  {
   "cell_type": "code",
   "execution_count": 5,
   "metadata": {},
   "outputs": [
    {
     "data": {
      "text/html": [
       "<div class='gpresult'><h2>Messages</h2><div id='messages' data-messages='[\"Start Time: piatok, 28. októbra 2022 9:38:35\",\"Succeeded at piatok, 28. októbra 2022 9:38:43 (Elapsed Time: 8,07 seconds)\"]' data-show='true'><div id = 'default' /></div></div>"
      ],
      "text/plain": [
       "<Result 'magistrat.lubosrybnikar.ZaD09_obrys_test2'>"
      ]
     },
     "execution_count": 5,
     "metadata": {},
     "output_type": "execute_result"
    }
   ],
   "source": [
    "arcpy.DeleteField_management(zad_test, delete_list)\n",
    "arcpy.management.JoinField(zad_test, in_field, zad_test_tab, join_field, update_list)\n",
    "#nefunguje"
   ]
  },
  {
   "cell_type": "code",
   "execution_count": null,
   "metadata": {},
   "outputs": [
    {
     "name": "stdout",
     "output_type": "stream",
     "text": [
      "Exporting SM_11\n",
      "Exporting SM_13\n",
      "Exporting SM_16\n",
      "Exporting SM_17\n",
      "Exporting SM_18\n",
      "Exporting SM_19\n",
      "Exporting SM_21\n",
      "Exporting SM_22\n",
      "Exporting PB_01\n",
      "Exporting PB_13\n",
      "Exporting PB_15\n",
      "Exporting PB_16\n",
      "Exporting PB_19\n",
      "Exporting PB_02\n",
      "Exporting PB_03\n",
      "Exporting PB_06\n",
      "Exporting PB_08\n",
      "Exporting RU_01\n",
      "Exporting RU_18\n",
      "Exporting RU_21\n",
      "Exporting RU_29\n",
      "Exporting RU_03\n",
      "Exporting RU_35\n",
      "Exporting RU_36\n",
      "Exporting RU_37\n",
      "Exporting RU_38\n",
      "Exporting RU_39\n",
      "Exporting RU_04\n",
      "Exporting RU_07\n",
      "Exporting RU_08\n",
      "Exporting RU_09\n",
      "Exporting VR_02\n"
     ]
    }
   ],
   "source": [
    "mxdchs = arcpy.mp.ArcGISProject(\"CURRENT\")\n",
    "l = mxdchs.listLayouts('ZaD_pasporty-plochy')[0]\n",
    "\n",
    "\n",
    "if not l.mapSeries is None:\n",
    "  ms = l.mapSeries\n",
    "  if ms.enabled:\n",
    "    for pageNum in range(1, ms.pageCount + 1):\n",
    "      ms.currentPageNumber = pageNum\n",
    "      print(\"Exporting {0}\".format(ms.pageRow.PC_HELP))\n",
    "      pageName = ms.pageRow.PC_HELP\n",
    "      l.exportToPDF(os.path.join(r\"D:\\rybnikar\\ZaD_subory_Lubos\\pdf\", f\"{ms.pageRow.PC_HELP}.pdf\"))\n",
    "#funguje"
   ]
  },
  {
   "cell_type": "code",
   "execution_count": 21,
   "metadata": {},
   "outputs": [
    {
     "data": {
      "text/html": [
       "<div class='gpresult'><h2>Messages</h2><div id='messages' data-messages='[\"Start Time: streda, 26. októbra 2022 16:23:28\",\"Succeeded at streda, 26. októbra 2022 16:23:30 (Elapsed Time: 1,55 seconds)\"]' data-show='true'><div id = 'default' /></div></div>"
      ],
      "text/plain": [
       "<Result 'C:\\\\Users\\\\lubos.rybnikar\\\\Documents\\\\arcgisdb1i.sde\\\\magistrat.gisdata.prilohy_pdf'>"
      ]
     },
     "execution_count": 21,
     "metadata": {},
     "output_type": "execute_result"
    }
   ],
   "source": [
    "arcpy.management.GenerateAttachmentMatchTable('magistrat.gisdata.ZaD09_obrys_test', 'pdf',\n",
    "                                              'magistrat.gisdata.prilohy_pdf', 'PC_HELP')\n",
    "#funguje"
   ]
  },
  {
   "cell_type": "code",
   "execution_count": 22,
   "metadata": {},
   "outputs": [
    {
     "data": {
      "text/html": [
       "<div class='gpresult'><h2>Messages</h2><div id='messages' data-messages='[\"Start Time: streda, 26. októbra 2022 16:24:10\",\"Succeeded at streda, 26. októbra 2022 16:24:13 (Elapsed Time: 3,46 seconds)\"]' data-show='true'><div id = 'default' /></div></div>"
      ],
      "text/plain": [
       "<Result 'magistrat.gisdata.ZaD09_obrys_test'>"
      ]
     },
     "execution_count": 22,
     "metadata": {},
     "output_type": "execute_result"
    }
   ],
   "source": [
    "arcpy.management.RemoveAttachments('magistrat.gisdata.ZaD09_obrys_test', 'OBJECTID',\n",
    "                                'magistrat.gisdata.prilohy_pdf',\n",
    "                                'MatchID', 'Filename')\n",
    "#funguje"
   ]
  },
  {
   "cell_type": "code",
   "execution_count": 23,
   "metadata": {},
   "outputs": [
    {
     "data": {
      "text/html": [
       "<div class='gpresult'><h2>Messages</h2><div id='messages' data-messages='[\"Start Time: streda, 26. októbra 2022 16:24:20\",\"Succeeded at streda, 26. októbra 2022 16:24:27 (Elapsed Time: 6,84 seconds)\"]' data-show='true'><div id = 'default' /></div></div>"
      ],
      "text/plain": [
       "<Result 'magistrat.gisdata.ZaD09_obrys_test'>"
      ]
     },
     "execution_count": 23,
     "metadata": {},
     "output_type": "execute_result"
    }
   ],
   "source": [
    "arcpy.management.AddAttachments('magistrat.gisdata.ZaD09_obrys_test', 'OBJECTID',\n",
    "                                'magistrat.gisdata.prilohy_pdf',\n",
    "                                'MatchID', 'Filename', 'pdf')"
   ]
  },
  {
   "cell_type": "code",
   "execution_count": null,
   "metadata": {},
   "outputs": [],
   "source": []
  }
 ],
 "metadata": {
  "kernelspec": {
   "display_name": "ArcGISPro",
   "language": "Python",
   "name": "python3"
  },
  "language_info": {
   "file_extension": ".py",
   "name": "python",
   "version": "3"
  }
 },
 "nbformat": 4,
 "nbformat_minor": 2
}
